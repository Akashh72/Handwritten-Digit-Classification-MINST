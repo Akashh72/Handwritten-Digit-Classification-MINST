{
  "cells": [
    {
      "cell_type": "code",
      "execution_count": null,
      "metadata": {
        "id": "gKMvdaLtLGMt"
      },
      "outputs": [],
      "source": [
        "import torch\n",
        "import numpy as np\n",
        "import matplotlib.pyplot as plt\n",
        "from sklearn.datasets import make_moons\n",
        "from sklearn.datasets import make_blobs\n",
        "from sklearn.datasets import make_classification\n",
        "from torchvision import datasets,transforms"
      ]
    },
    {
      "cell_type": "code",
      "execution_count": null,
      "metadata": {
        "id": "4vwbwV5ALGMw"
      },
      "outputs": [],
      "source": [
        "device = torch.device('cuda') if torch.cuda.is_available() else torch.device('cpu')"
      ]
    },
    {
      "cell_type": "code",
      "execution_count": null,
      "metadata": {
        "id": "2dUbScJ6LGMw"
      },
      "outputs": [],
      "source": [
        "from keras.datasets import mnist\n",
        "(x_train, y_train), (x_test, y_test) = mnist.load_data()"
      ]
    },
    {
      "cell_type": "code",
      "source": [
        "print(\"X train shape \",x_train.shape)\n",
        "print(\"X test shape \",x_test.shape)"
      ],
      "metadata": {
        "colab": {
          "base_uri": "https://localhost:8080/"
        },
        "id": "7UO74JLCZgy4",
        "outputId": "60e5170e-be9a-4da3-e0a8-aa9ab629d60b"
      },
      "execution_count": null,
      "outputs": [
        {
          "output_type": "stream",
          "name": "stdout",
          "text": [
            "X train shape  (60000, 28, 28)\n",
            "X test shape  (10000, 28, 28)\n"
          ]
        }
      ]
    },
    {
      "cell_type": "code",
      "execution_count": null,
      "metadata": {
        "id": "7pNrUJ0sLGMw"
      },
      "outputs": [],
      "source": [
        "x_train = x_train.reshape(60000,28*28)\n",
        "x_test = x_test.reshape(10000,28*28)"
      ]
    },
    {
      "cell_type": "code",
      "source": [
        "shuffle_idx = np.random.permutation(60000)\n",
        "x_train , y_train = x_train[shuffle_idx] , y_train[shuffle_idx]"
      ],
      "metadata": {
        "id": "aVQCpoLhaUF5"
      },
      "execution_count": null,
      "outputs": []
    },
    {
      "cell_type": "code",
      "execution_count": null,
      "metadata": {
        "id": "H6-IsOkILGMx"
      },
      "outputs": [],
      "source": [
        "x_train = torch.FloatTensor(x_train)\n",
        "y_train = torch.FloatTensor(y_train)\n",
        "x_test = torch.FloatTensor(x_test)\n",
        "y_test = torch.FloatTensor(y_test)"
      ]
    },
    {
      "cell_type": "code",
      "execution_count": null,
      "metadata": {
        "colab": {
          "base_uri": "https://localhost:8080/",
          "height": 94
        },
        "id": "Bjf4_pOoLGMx",
        "outputId": "1db55c1d-ab98-4186-f8fc-d8415a6200d4"
      },
      "outputs": [
        {
          "output_type": "display_data",
          "data": {
            "text/plain": [
              "<Figure size 720x288 with 10 Axes>"
            ],
            "image/png": "[encoded data removed]"
          },
          "metadata": {
            "needs_background": "light"
          }
        }
      ],
      "source": [
        "plt.figure(figsize = (10,4))\n",
        "for i in range(10):\n",
        "  plt.subplot(1, 10, i+1)\n",
        "  plt.axis('off')\n",
        "  plt.imshow(x_train[i].numpy().reshape(28, 28), cmap = 'jet')\n",
        "  plt.title(\"Class \" + str(int(y_train[i].item())))"
      ]
    },
    {
      "cell_type": "code",
      "execution_count": null,
      "metadata": {
        "id": "swsgEB67LGMy"
      },
      "outputs": [],
      "source": [
        "class threelayer(torch.nn.Module):\n",
        "    \n",
        "    def __init__(self,input,h1,h2,h3,output):\n",
        "        super(threelayer,self).__init__()\n",
        "        self.input = input\n",
        "        self.h1 = h1\n",
        "        self.h2 = h2\n",
        "        self.h3 = h3\n",
        "        self.output = output\n",
        "        self.fc1 = torch.nn.Linear(self.input,self.h1)\n",
        "        self.fn1 = torch.nn.ReLU()\n",
        "        self.fc2 = torch.nn.Linear(self.h1,self.h2)\n",
        "        self.fn2 = torch.nn.ReLU()\n",
        "        self.fc3 = torch.nn.Linear(self.h2,self.output)\n",
        "        self.fn3 = torch.nn.Softmax(dim=1)\n",
        "    def forward(self,x):\n",
        "        x = self.fc1(x)\n",
        "        x = self.fn1(x)\n",
        "        x = self.fc2(x)\n",
        "        x = self.fn2(x)\n",
        "        x = self.fc3(x)\n",
        "        x = self.fn3(x)\n",
        "        return x"
      ]
    },
    {
      "cell_type": "code",
      "execution_count": null,
      "metadata": {
        "id": "FdylRXpMLGMz"
      },
      "outputs": [],
      "source": [
        "model = threelayer(784,50,50,50,10).to(device)"
      ]
    },
    {
      "cell_type": "code",
      "execution_count": null,
      "metadata": {
        "colab": {
          "base_uri": "https://localhost:8080/"
        },
        "id": "9ydV_V_FLGMz",
        "outputId": "c2e5a858-77a4-4b97-d5f1-c9cdd2a1bcca"
      },
      "outputs": [
        {
          "output_type": "stream",
          "name": "stdout",
          "text": [
            "threelayer(\n",
            "  (fc1): Linear(in_features=784, out_features=50, bias=True)\n",
            "  (fn1): ReLU()\n",
            "  (fc2): Linear(in_features=50, out_features=50, bias=True)\n",
            "  (fn2): ReLU()\n",
            "  (fc3): Linear(in_features=50, out_features=10, bias=True)\n",
            "  (fn3): Softmax(dim=1)\n",
            ")\n"
          ]
        }
      ],
      "source": [
        "print(model)"
      ]
    },
    {
      "cell_type": "code",
      "execution_count": null,
      "metadata": {
        "id": "fsS4_kaQLGM0"
      },
      "outputs": [],
      "source": [
        "optimizer = torch.optim.SGD(model.parameters() ,lr=0.01)\n",
        "criterion = torch.nn.CrossEntropyLoss()"
      ]
    },
    {
      "cell_type": "code",
      "execution_count": null,
      "metadata": {
        "id": "koJM3G83LGM0"
      },
      "outputs": [],
      "source": [
        "y = y_train.type(torch.LongTensor)"
      ]
    },
    {
      "cell_type": "code",
      "execution_count": null,
      "metadata": {
        "colab": {
          "base_uri": "https://localhost:8080/",
          "height": 664
        },
        "id": "Q5VPndzwLGM0",
        "outputId": "5d54fa5f-d189-4c5c-88f5-9f3528d76243"
      },
      "outputs": [
        {
          "output_type": "stream",
          "name": "stdout",
          "text": [
            "....................\n",
            "10.0% Completed\n",
            "....................\n",
            "20.0% Completed\n",
            "....................\n",
            "30.0% Completed\n",
            "....................\n",
            "40.0% Completed\n",
            "....................\n",
            "50.0% Completed\n",
            "....................\n",
            "60.0% Completed\n",
            "....................\n",
            "70.0% Completed\n",
            "....................\n",
            "80.0% Completed\n",
            "....................\n",
            "90.0% Completed\n",
            "....................\n",
            "100.0% Completed\n",
            "\n",
            "Epoch 2000: train loss: 1.5878463983535767\n"
          ]
        },
        {
          "output_type": "execute_result",
          "data": {
            "text/plain": [
              "[<matplotlib.lines.Line2D at 0x7f36d84c14d0>]"
            ]
          },
          "metadata": {},
          "execution_count": 14
        },
        {
          "output_type": "display_data",
          "data": {
            "text/plain": [
              "<Figure size 432x288 with 1 Axes>"
            ],
            "image/png": "[encoded data removed]"
          },
          "metadata": {
            "needs_background": "light"
          }
        }
      ],
      "source": [
        "model.train().to(device)\n",
        "epoch = 2000\n",
        "Loss =[]\n",
        "for iter in range(epoch):\n",
        "    optimizer.zero_grad()\n",
        "    y_pred = model(x_train.to(device))\n",
        "    loss = criterion(y_pred,y.to(device))\n",
        "    Loss.append(loss.item())\n",
        "    loss.backward()\n",
        "    optimizer.step()\n",
        "    if (iter % 10 == 0):\n",
        "      print(\".\",end=\"\")\n",
        "    if (iter+1) % 200 == 0:\n",
        "      print(\"\\n{}% Completed\".format(((iter+1)/epoch)*100))\n",
        "print('\\nEpoch {}: train loss: {}'.format(epoch, loss.item()))\n",
        "plt.plot(np.arange(len(Loss)),Loss)"
      ]
    },
    {
      "cell_type": "code",
      "execution_count": null,
      "metadata": {
        "id": "e9ToSRDFLGM0"
      },
      "outputs": [],
      "source": [
        "predict =model(x_test.to(device)).cpu()"
      ]
    },
    {
      "cell_type": "code",
      "execution_count": null,
      "metadata": {
        "colab": {
          "base_uri": "https://localhost:8080/",
          "height": 94
        },
        "id": "PJgkcH48LGM1",
        "outputId": "9c4a50f5-2c77-4355-caef-19bde6f6429f"
      },
      "outputs": [
        {
          "output_type": "display_data",
          "data": {
            "text/plain": [
              "<Figure size 720x288 with 10 Axes>"
            ],
            "image/png": "[encoded data removed]"
          },
          "metadata": {
            "needs_background": "light"
          }
        }
      ],
      "source": [
        "plt.figure(figsize = (10,4))\n",
        "for i in range(10,20):\n",
        "  plt.subplot(1, 10, i+1-10)\n",
        "  plt.axis('off')\n",
        "  plt.imshow(x_test[i, :].numpy().reshape(28, 28), cmap = 'jet')\n",
        "  ans = list(predict[i].detach().numpy())\n",
        "  plt.title(\"Class\" + str(ans.index(max(ans))))"
      ]
    }
  ],
  "metadata": {
    "kernelspec": {
      "display_name": "Python 3.10.7 64-bit",
      "language": "python",
      "name": "python3"
    },
    "language_info": {
      "codemirror_mode": {
        "name": "ipython",
        "version": 3
      },
      "file_extension": ".py",
      "mimetype": "text/x-python",
      "name": "python",
      "nbconvert_exporter": "python",
      "pygments_lexer": "ipython3",
      "version": "3.10.7"
    },
    "orig_nbformat": 4,
    "vscode": {
      "interpreter": {
        "hash": "73261e48852d51a8619d3559d80afe0391a56a50e480a00694bcdf352813ba28"
      }
    },
    "colab": {
      "provenance": []
    },
    "accelerator": "GPU"
  },
  "nbformat": 4,
  "nbformat_minor": 0
}